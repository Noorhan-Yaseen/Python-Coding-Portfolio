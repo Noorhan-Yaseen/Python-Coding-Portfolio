{
 "cells": [
  {
   "cell_type": "markdown",
   "id": "f09940f5-3b1e-41f3-8baa-9ac1c66984a7",
   "metadata": {},
   "source": [
    "# Data Preparation in Data Science\n",
    "Data preparation is the first step after you get your hands on any kind of dataset. This is the step when you pre-process raw data into a form that can be easily and accurately analyzed."
   ]
  },
  {
   "cell_type": "markdown",
   "id": "7aa3a911-81d7-474c-9a50-ee92b41c1e1d",
   "metadata": {},
   "source": [
    "# Pandas\n",
    "Pandas is a software library written for Python. It is very famous in the data science community because it offers powerful, expressive, and flexible data structures that make data manipulation, analysis easy."
   ]
  },
  {
   "cell_type": "code",
   "execution_count": 1,
   "id": "183fd7c1-c6ff-4cb6-83cd-9314a03ab7de",
   "metadata": {},
   "outputs": [
    {
     "name": "stdout",
     "output_type": "stream",
     "text": [
      "Requirement already satisfied: pandas in c:\\anaconda\\lib\\site-packages (2.2.2)\n",
      "Requirement already satisfied: numpy>=1.26.0 in c:\\anaconda\\lib\\site-packages (from pandas) (1.26.4)\n",
      "Requirement already satisfied: python-dateutil>=2.8.2 in c:\\anaconda\\lib\\site-packages (from pandas) (2.9.0.post0)\n",
      "Requirement already satisfied: pytz>=2020.1 in c:\\anaconda\\lib\\site-packages (from pandas) (2024.1)\n",
      "Requirement already satisfied: tzdata>=2022.7 in c:\\anaconda\\lib\\site-packages (from pandas) (2023.3)\n",
      "Requirement already satisfied: six>=1.5 in c:\\anaconda\\lib\\site-packages (from python-dateutil>=2.8.2->pandas) (1.16.0)\n",
      "Note: you may need to restart the kernel to use updated packages.\n"
     ]
    }
   ],
   "source": [
    "#Installing the library\n",
    "pip install pandas"
   ]
  },
  {
   "cell_type": "markdown",
   "id": "fac1b36e-f222-4a3d-b491-9e52be3df120",
   "metadata": {},
   "source": [
    "# Importing Library\n",
    "It is an essential step to import libraries before starting any process"
   ]
  },
  {
   "cell_type": "code",
   "execution_count": 1,
   "id": "609fc13c-c8f8-4767-8fde-dd4114cce733",
   "metadata": {},
   "outputs": [],
   "source": [
    "#Importing Pandas in Python\n",
    "import pandas as pd"
   ]
  },
  {
   "cell_type": "markdown",
   "id": "7f34486f-da57-4554-b5e3-426d2109123f",
   "metadata": {},
   "source": [
    "# Loading Data\n",
    "The first step in Data Preparation is loading the dataset into a tool or framework where it can be manipulated and analyzed."
   ]
  },
  {
   "cell_type": "code",
   "execution_count": 2,
   "id": "5db711b7-a666-466c-9a1d-2c83ac01c015",
   "metadata": {},
   "outputs": [],
   "source": [
    "#Loading the Dataset in Pandas\n",
    "df = pd.read_csv(\"data.csv\", header=0, sep=\",\")"
   ]
  },
  {
   "cell_type": "markdown",
   "id": "2ff5219d-59cf-4808-b4c4-c7b2c690e64c",
   "metadata": {},
   "source": [
    "# Data Cleaning\n",
    "After loading the data, it is essential to inspect it to understand its structure and identify potential issues."
   ]
  },
  {
   "cell_type": "code",
   "execution_count": 4,
   "id": "39c1410d-2344-498f-94ed-a84e9cf1407f",
   "metadata": {},
   "outputs": [
    {
     "name": "stdout",
     "output_type": "stream",
     "text": [
      "Preview of Dataset:\n",
      "          Car       Model  Volume  Weight  CO2\n",
      "0      Toyoty        Aygo    1000     790   99\n",
      "1  Mitsubishi  Space Star    1200    1160   95\n",
      "2       Skoda      Citigo    1000     929   95\n",
      "3        Mini      Cooper    1500    1140  105\n",
      "4          VW         Up!    1000     929  105\n"
     ]
    }
   ],
   "source": [
    "# Inspect the first few rows of the dataset\n",
    "print(\"Preview of Dataset:\")\n",
    "print(df.head())"
   ]
  },
  {
   "cell_type": "code",
   "execution_count": 5,
   "id": "7310a53c-2278-46cb-b762-52d21bc0765a",
   "metadata": {},
   "outputs": [
    {
     "name": "stdout",
     "output_type": "stream",
     "text": [
      "\n",
      "Dataset Information:\n",
      "<class 'pandas.core.frame.DataFrame'>\n",
      "RangeIndex: 31 entries, 0 to 30\n",
      "Data columns (total 5 columns):\n",
      " #   Column  Non-Null Count  Dtype \n",
      "---  ------  --------------  ----- \n",
      " 0   Car     31 non-null     object\n",
      " 1   Model   31 non-null     object\n",
      " 2   Volume  31 non-null     int64 \n",
      " 3   Weight  31 non-null     int64 \n",
      " 4   CO2     31 non-null     int64 \n",
      "dtypes: int64(3), object(2)\n",
      "memory usage: 1.3+ KB\n",
      "None\n"
     ]
    }
   ],
   "source": [
    "# Check the structure and details of the dataset\n",
    "print(\"\\nDataset Information:\")\n",
    "print(df.info())"
   ]
  },
  {
   "cell_type": "markdown",
   "id": "ed3f79b7-d2dd-4721-b444-cfb11a300fb5",
   "metadata": {},
   "source": [
    "# Handling Missing Values\n",
    "Missing data can cause issues in analysis. Start by identifying and handling missing values."
   ]
  },
  {
   "cell_type": "code",
   "execution_count": 6,
   "id": "62f2e296-ccd3-494c-a9e0-1b9acc67ab4a",
   "metadata": {},
   "outputs": [
    {
     "name": "stdout",
     "output_type": "stream",
     "text": [
      "\n",
      "Missing Values in Each Column:\n",
      "Car       0\n",
      "Model     0\n",
      "Volume    0\n",
      "Weight    0\n",
      "CO2       0\n",
      "dtype: int64\n"
     ]
    }
   ],
   "source": [
    "# Check for missing values in the dataset\n",
    "print(\"\\nMissing Values in Each Column:\")\n",
    "print(df.isnull().sum())"
   ]
  },
  {
   "cell_type": "markdown",
   "id": "fb08a747-39ba-4d3f-bd02-03082256c4fd",
   "metadata": {},
   "source": [
    "# Removing Rows\n",
    "It removes any row from the DataFrame df where at least one value is missing (NaN)."
   ]
  },
  {
   "cell_type": "code",
   "execution_count": 7,
   "id": "3c486b06-6a01-4d10-bfc4-1a44c91da86d",
   "metadata": {},
   "outputs": [
    {
     "name": "stdout",
     "output_type": "stream",
     "text": [
      "\n",
      "Dataset After Removing Missing Values:\n",
      "<class 'pandas.core.frame.DataFrame'>\n",
      "RangeIndex: 31 entries, 0 to 30\n",
      "Data columns (total 5 columns):\n",
      " #   Column  Non-Null Count  Dtype \n",
      "---  ------  --------------  ----- \n",
      " 0   Car     31 non-null     object\n",
      " 1   Model   31 non-null     object\n",
      " 2   Volume  31 non-null     int64 \n",
      " 3   Weight  31 non-null     int64 \n",
      " 4   CO2     31 non-null     int64 \n",
      "dtypes: int64(3), object(2)\n",
      "memory usage: 1.3+ KB\n",
      "None\n"
     ]
    }
   ],
   "source": [
    "# Remove rows with missing values\n",
    "df.dropna(axis=0, inplace=True)\n",
    "\n",
    "print(\"\\nDataset After Removing Missing Values:\")\n",
    "print(df.info())"
   ]
  },
  {
   "cell_type": "markdown",
   "id": "f94a25dc-bf93-476c-aee0-e5c4cd9803b5",
   "metadata": {},
   "source": [
    "# Handling Duplicate Data\n",
    "Pandas makes it easy to identify and remove duplicate rows from the dataset."
   ]
  },
  {
   "cell_type": "code",
   "execution_count": 8,
   "id": "76e45f16-3bef-40f6-8bf1-e20f85597575",
   "metadata": {},
   "outputs": [
    {
     "name": "stdout",
     "output_type": "stream",
     "text": [
      "None\n"
     ]
    }
   ],
   "source": [
    "# Remove duplicate rows\n",
    "df1=df.drop_duplicates(inplace=True)\n",
    "print (df1)"
   ]
  },
  {
   "cell_type": "markdown",
   "id": "49a506af-97c2-413e-9373-292c5245a848",
   "metadata": {},
   "source": [
    "# Data Transformation\n",
    "1. Ensure all columns have appropriate data types to avoid calculation errors."
   ]
  },
  {
   "cell_type": "code",
   "execution_count": 9,
   "id": "6b66c657-60af-4e0b-b78d-d245e7c7e71f",
   "metadata": {},
   "outputs": [
    {
     "name": "stdout",
     "output_type": "stream",
     "text": [
      "\n",
      "Current Data Types:\n",
      "Car       object\n",
      "Model     object\n",
      "Volume     int64\n",
      "Weight     int64\n",
      "CO2        int64\n",
      "dtype: object\n"
     ]
    }
   ],
   "source": [
    "# Inspect current data types\n",
    "print(\"\\nCurrent Data Types:\")\n",
    "print(df.dtypes)"
   ]
  },
  {
   "cell_type": "markdown",
   "id": "5d229ec5-a14d-48fe-9073-edc28126e469",
   "metadata": {},
   "source": [
    "2. Ensure Numeric Columns Have Correct Data Types\n",
    "Since Volume and Weight are already int64, no changes are needed for them. However, if they were stored as strings (e.g., object), you would need to convert them to integers or floats."
   ]
  },
  {
   "cell_type": "code",
   "execution_count": 10,
   "id": "1f2f75e5-c689-4fb1-a042-1c60b0c2304d",
   "metadata": {},
   "outputs": [],
   "source": [
    "# Example: Convert 'Volume' and 'Weight' to numeric types (if needed)\n",
    "df[\"Volume\"] = df[\"Volume\"].astype(int)\n",
    "df[\"Weight\"] = df[\"Weight\"].astype(int)"
   ]
  },
  {
   "cell_type": "markdown",
   "id": "71f8106d-67cc-402b-b977-87e3f70dc7b9",
   "metadata": {},
   "source": [
    "3. Verify Data Type Consistency for Categorical Columns\n",
    "Categorical columns such as Car and Model should be treated as object or category. Converting them to category can save memory and improve performance in analysis."
   ]
  },
  {
   "cell_type": "code",
   "execution_count": 11,
   "id": "9f4ea79e-6010-499f-88cf-54563e10e5f1",
   "metadata": {},
   "outputs": [],
   "source": [
    "# Convert 'Car' and 'Model' columns to category type\n",
    "df[\"Car\"] = df[\"Car\"].astype(\"category\")\n",
    "df[\"Model\"] = df[\"Model\"].astype(\"category\")"
   ]
  },
  {
   "cell_type": "markdown",
   "id": "bdc65839-74c1-4d03-9b71-1996300d38cd",
   "metadata": {},
   "source": [
    "4. Check Data Types After Fixing\n",
    "Finally, confirm that all columns have the correct data types."
   ]
  },
  {
   "cell_type": "code",
   "execution_count": 12,
   "id": "9a1e1af8-3478-4c35-b451-68ae014ce700",
   "metadata": {},
   "outputs": [
    {
     "name": "stdout",
     "output_type": "stream",
     "text": [
      "\n",
      "Updated Data Types:\n",
      "Car       category\n",
      "Model     category\n",
      "Volume       int32\n",
      "Weight       int32\n",
      "CO2          int64\n",
      "dtype: object\n"
     ]
    }
   ],
   "source": [
    "# Verify updated data types\n",
    "print(\"\\nUpdated Data Types:\")\n",
    "print(df.dtypes)"
   ]
  },
  {
   "cell_type": "markdown",
   "id": "8db8e1da-2d6c-45df-b03b-00ed7a07002e",
   "metadata": {},
   "source": [
    " # Filtering and Selecting Data\n",
    "Pandas allows you to filter and select rows or columns based on specific conditions."
   ]
  },
  {
   "cell_type": "code",
   "execution_count": 13,
   "id": "be49946b-2f9e-4a17-a3eb-3331c6996dbd",
   "metadata": {},
   "outputs": [
    {
     "name": "stdout",
     "output_type": "stream",
     "text": [
      "     Car   Model  Volume  Weight  CO2\n",
      "7   Ford  Fiesta    1500    1112   98\n",
      "11  Ford  Fiesta    1000    1112   99\n",
      "16  Ford   Focus    2000    1328  105\n",
      "17  Ford  Mondeo    1600    1584   94\n",
      "28  Ford   B-Max    1600    1235  104\n"
     ]
    }
   ],
   "source": [
    "# Filter rows where CarBrand is Ford\n",
    "df_filtered = df[df['Car'] == 'Ford']  \n",
    "print(df_filtered)"
   ]
  },
  {
   "cell_type": "markdown",
   "id": "7da9fce6-35d4-4436-b808-f1c317309a2b",
   "metadata": {},
   "source": [
    "# Dropping unnecessary columns\n",
    "It helps streamline the dataset by removing irrelevant or redundant information, making the data more focused and easier to analyze."
   ]
  },
  {
   "cell_type": "code",
   "execution_count": 14,
   "id": "7003ebd2-0df8-4966-8202-b0d13260ac68",
   "metadata": {},
   "outputs": [
    {
     "name": "stdout",
     "output_type": "stream",
     "text": [
      "           Car       Model  Volume  Weight\n",
      "0       Toyoty        Aygo    1000     790\n",
      "1   Mitsubishi  Space Star    1200    1160\n",
      "2        Skoda      Citigo    1000     929\n",
      "3         Mini      Cooper    1500    1140\n",
      "4           VW         Up!    1000     929\n",
      "5        Skoda       Fabia    1400    1109\n",
      "6     Mercedes     A-Class    1500    1365\n",
      "7         Ford      Fiesta    1500    1112\n",
      "8         Audi          A1    1600    1150\n",
      "9      Hyundai         I20    1100     980\n",
      "10      Suzuki       Swift    1300     990\n",
      "11        Ford      Fiesta    1000    1112\n",
      "12       Honda       Civic    1600    1252\n",
      "13      Hundai         I30    1600    1326\n",
      "14        Opel       Astra    1600    1330\n",
      "15       Skoda       Rapid    1600    1119\n",
      "16        Ford       Focus    2000    1328\n",
      "17        Ford      Mondeo    1600    1584\n",
      "18        Opel    Insignia    2000    1428\n",
      "19    Mercedes     C-Class    2100    1365\n",
      "20       Skoda     Octavia    1600    1415\n",
      "21       Volvo         S60    2000    1415\n",
      "22    Mercedes         CLA    1500    1465\n",
      "23        Audi          A4    2000    1490\n",
      "24        Audi          A6    2000    1725\n",
      "25       Volvo         V70    1600    1523\n",
      "26    Mercedes     E-Class    2100    1605\n",
      "27       Volvo        XC70    2000    1746\n",
      "28        Ford       B-Max    1600    1235\n",
      "29        Opel      Zafira    1600    1405\n",
      "30    Mercedes         SLK    2500    1395\n"
     ]
    }
   ],
   "source": [
    "# Dropping the 'CO2' column from the dataframe\n",
    "df.drop(columns='CO2', inplace=True)\n",
    "\n",
    "# Print the modified dataframe\n",
    "print(df)"
   ]
  },
  {
   "cell_type": "markdown",
   "id": "d6377ad6-ef47-46d7-9c10-6be91f2533fb",
   "metadata": {},
   "source": [
    "# Renaming Columns (Optional)\n",
    "For your dataset, you can rename the columns to make them shorter, more consistent, or easier to read."
   ]
  },
  {
   "cell_type": "code",
   "execution_count": 15,
   "id": "b329229d-c473-4f6b-8651-b0a11db4c64e",
   "metadata": {},
   "outputs": [
    {
     "name": "stdout",
     "output_type": "stream",
     "text": [
      "\n",
      "Renamed Columns:\n",
      "      CarName    CarModel  EngineVolume  CarWeight\n",
      "0      Toyoty        Aygo          1000        790\n",
      "1  Mitsubishi  Space Star          1200       1160\n",
      "2       Skoda      Citigo          1000        929\n",
      "3        Mini      Cooper          1500       1140\n",
      "4          VW         Up!          1000        929\n"
     ]
    }
   ],
   "source": [
    "# Rename columns for consistency\n",
    "df.rename(columns={\"Car\": \"CarName\", \"Model\": \"CarModel\", \"Volume\": \"EngineVolume\", \"Weight\": \"CarWeight\"}, inplace=True)\n",
    "\n",
    "print(\"\\nRenamed Columns:\")\n",
    "print(df.head())"
   ]
  },
  {
   "cell_type": "markdown",
   "id": "7f3cd4e3-f7d0-47b3-bd00-807075e810d3",
   "metadata": {},
   "source": [
    "# Analyzing Cleaned Data\n",
    "After cleaning, summarize the data and analyze it."
   ]
  },
  {
   "cell_type": "code",
   "execution_count": 16,
   "id": "dc8c5869-7032-4a51-bde3-94390af051ce",
   "metadata": {},
   "outputs": [
    {
     "name": "stdout",
     "output_type": "stream",
     "text": [
      "\n",
      "Summary of Cleaned Dataset:\n",
      "       EngineVolume    CarWeight\n",
      "count     31.000000    31.000000\n",
      "mean    1603.225806  1287.645161\n",
      "std      378.139190   236.874024\n",
      "min     1000.000000   790.000000\n",
      "25%     1450.000000  1115.500000\n",
      "50%     1600.000000  1328.000000\n",
      "75%     2000.000000  1421.500000\n",
      "max     2500.000000  1746.000000\n"
     ]
    }
   ],
   "source": [
    "# Summarize numerical data\n",
    "print(\"\\nSummary of Cleaned Dataset:\")\n",
    "print(df.describe())"
   ]
  },
  {
   "cell_type": "markdown",
   "id": "e13fc058-5b2e-4f25-9f34-b3ecf6693d03",
   "metadata": {},
   "source": [
    "# Checking Unique Values in Categorical Columns\n",
    "Inspecting the unique values in categorical columns helps identify distinct categories, ensure data consistency, and detect any anomalies or outliers within the dataset"
   ]
  },
  {
   "cell_type": "code",
   "execution_count": 17,
   "id": "173e53f4-e1b0-4d4e-ae87-e1d29d10458d",
   "metadata": {},
   "outputs": [
    {
     "name": "stdout",
     "output_type": "stream",
     "text": [
      "\n",
      "Unique Values in a Column:\n",
      "['Aygo', 'Space Star', 'Citigo', 'Cooper', 'Up!', ..., 'E-Class', 'XC70', 'B-Max', 'Zafira', 'SLK']\n",
      "Length: 30\n",
      "Categories (30, object): ['A-Class', 'A1', 'A4', 'A6', ..., 'Up!', 'V70', 'XC70', 'Zafira']\n"
     ]
    }
   ],
   "source": [
    "print(\"\\nUnique Values in a Column:\")\n",
    "print(df[\"CarModel\"].unique())  "
   ]
  },
  {
   "cell_type": "markdown",
   "id": "2795f11d-0a7a-46da-a070-1066827fa907",
   "metadata": {},
   "source": [
    "# Checking Data Distribution\n",
    "An optional step involves visualizing the distribution of numerical data or analyzing the frequency of categorical variables."
   ]
  },
  {
   "cell_type": "code",
   "execution_count": 18,
   "id": "94f6a5b0-2717-4bba-a943-3f3ecfd5aa45",
   "metadata": {},
   "outputs": [
    {
     "name": "stdout",
     "output_type": "stream",
     "text": [
      "\n",
      "Frequency of Car Name:\n",
      "CarName\n",
      "Ford          5\n",
      "Mercedes      5\n",
      "Skoda         4\n",
      "Audi          3\n",
      "Opel          3\n",
      "Volvo         3\n",
      "Honda         1\n",
      "Hundai        1\n",
      "Hyundai       1\n",
      "Mini          1\n",
      "Mitsubishi    1\n",
      "Suzuki        1\n",
      "Toyoty        1\n",
      "VW            1\n",
      "Name: count, dtype: int64\n"
     ]
    }
   ],
   "source": [
    "# Count frequency of unique values in 'Car Name'\n",
    "print(\"\\nFrequency of Car Name:\")\n",
    "print(df[\"CarName\"].value_counts())"
   ]
  },
  {
   "cell_type": "markdown",
   "id": "37c63535-8acd-4f79-9435-24f61ecab356",
   "metadata": {},
   "source": [
    "# Code to Save to a New CSV File\n",
    "To save the modified DataFrame into a new CSV file, you can use the to_csv() method in pandas."
   ]
  },
  {
   "cell_type": "code",
   "execution_count": 65,
   "id": "2eb4bc78-3882-430c-b0f6-03fdec6b1ae4",
   "metadata": {},
   "outputs": [
    {
     "name": "stdout",
     "output_type": "stream",
     "text": [
      "Data saved to 'modified_data.csv'\n"
     ]
    }
   ],
   "source": [
    "# Saving the DataFrame to a new CSV file\n",
    "df.to_csv('modified_data.csv', index=False)\n",
    "\n",
    "print(\"Data saved to 'modified_data.csv'\")"
   ]
  }
 ],
 "metadata": {
  "kernelspec": {
   "display_name": "Python 3 (ipykernel)",
   "language": "python",
   "name": "python3"
  },
  "language_info": {
   "codemirror_mode": {
    "name": "ipython",
    "version": 3
   },
   "file_extension": ".py",
   "mimetype": "text/x-python",
   "name": "python",
   "nbconvert_exporter": "python",
   "pygments_lexer": "ipython3",
   "version": "3.12.7"
  }
 },
 "nbformat": 4,
 "nbformat_minor": 5
}
